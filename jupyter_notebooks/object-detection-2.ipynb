{
 "cells": [
  {
   "cell_type": "markdown",
   "id": "8fa4a015",
   "metadata": {},
   "source": [
    "#  Utilizando dataset de object detection"
   ]
  },
  {
   "cell_type": "code",
   "execution_count": 1,
   "id": "fdf39924",
   "metadata": {},
   "outputs": [],
   "source": [
    "import cv2\n",
    "import os\n",
    "import random\n",
    "import pathlib\n",
    "import numpy as nop\n",
    "import pandas as pd\n",
    "import matplotlib.pyplot as plt\n",
    "import matplotlib.patches as patches\n"
   ]
  },
  {
   "cell_type": "code",
   "execution_count": 2,
   "id": "531e1cdb",
   "metadata": {},
   "outputs": [
    {
     "name": "stderr",
     "output_type": "stream",
     "text": [
      "Cloning into 'models'...\n",
      "Updating files:  30% (1014/3361)\n",
      "Updating files:  31% (1042/3361)\n",
      "Updating files:  32% (1076/3361)\n",
      "Updating files:  33% (1110/3361)\n",
      "Updating files:  34% (1143/3361)\n",
      "Updating files:  35% (1177/3361)\n",
      "Updating files:  36% (1210/3361)\n",
      "Updating files:  37% (1244/3361)\n",
      "Updating files:  38% (1278/3361)\n",
      "Updating files:  39% (1311/3361)\n",
      "Updating files:  40% (1345/3361)\n",
      "Updating files:  41% (1379/3361)\n",
      "Updating files:  42% (1412/3361)\n",
      "Updating files:  43% (1446/3361)\n",
      "Updating files:  44% (1479/3361)\n",
      "Updating files:  45% (1513/3361)\n",
      "Updating files:  46% (1547/3361)\n",
      "Updating files:  47% (1580/3361)\n",
      "Updating files:  48% (1614/3361)\n",
      "Updating files:  49% (1647/3361)\n",
      "Updating files:  50% (1681/3361)\n",
      "Updating files:  51% (1715/3361)\n",
      "Updating files:  52% (1748/3361)\n",
      "Updating files:  53% (1782/3361)\n",
      "Updating files:  54% (1815/3361)\n",
      "Updating files:  54% (1824/3361)\n",
      "Updating files:  55% (1849/3361)\n",
      "Updating files:  56% (1883/3361)\n",
      "Updating files:  57% (1916/3361)\n",
      "Updating files:  58% (1950/3361)\n",
      "Updating files:  59% (1983/3361)\n",
      "Updating files:  60% (2017/3361)\n",
      "Updating files:  61% (2051/3361)\n",
      "Updating files:  62% (2084/3361)\n",
      "Updating files:  63% (2118/3361)\n",
      "Updating files:  64% (2152/3361)\n",
      "Updating files:  65% (2185/3361)\n",
      "Updating files:  66% (2219/3361)\n",
      "Updating files:  67% (2252/3361)\n",
      "Updating files:  68% (2286/3361)\n",
      "Updating files:  69% (2320/3361)\n",
      "Updating files:  70% (2353/3361)\n",
      "Updating files:  71% (2387/3361)\n",
      "Updating files:  72% (2420/3361)\n",
      "Updating files:  73% (2454/3361)\n",
      "Updating files:  74% (2488/3361)\n",
      "Updating files:  75% (2521/3361)\n",
      "Updating files:  76% (2555/3361)\n",
      "Updating files:  77% (2588/3361)\n",
      "Updating files:  78% (2622/3361)\n",
      "Updating files:  78% (2644/3361)\n",
      "Updating files:  79% (2656/3361)\n",
      "Updating files:  80% (2689/3361)\n",
      "Updating files:  81% (2723/3361)\n",
      "Updating files:  82% (2757/3361)\n",
      "Updating files:  83% (2790/3361)\n",
      "Updating files:  84% (2824/3361)\n",
      "Updating files:  85% (2857/3361)\n",
      "Updating files:  86% (2891/3361)\n",
      "Updating files:  87% (2925/3361)\n",
      "Updating files:  88% (2958/3361)\n",
      "Updating files:  89% (2992/3361)\n",
      "Updating files:  90% (3025/3361)\n",
      "Updating files:  91% (3059/3361)\n",
      "Updating files:  92% (3093/3361)\n",
      "Updating files:  93% (3126/3361)\n",
      "Updating files:  94% (3160/3361)\n",
      "Updating files:  95% (3193/3361)\n",
      "Updating files:  96% (3227/3361)\n",
      "Updating files:  97% (3261/3361)\n",
      "Updating files:  98% (3294/3361)\n",
      "Updating files:  99% (3328/3361)\n",
      "Updating files: 100% (3361/3361)\n",
      "Updating files: 100% (3361/3361), done.\n"
     ]
    }
   ],
   "source": [
    "!git clone https://github.com/tensorflow/models"
   ]
  },
  {
   "cell_type": "code",
   "execution_count": 7,
   "id": "ba03787a",
   "metadata": {},
   "outputs": [
    {
     "name": "stdout",
     "output_type": "stream",
     "text": [
      "Couldn't find program: 'bash'\n"
     ]
    }
   ],
   "source": [
    "%%bash\n",
    "cd models/research/\n",
    "protoc object_detection/protos/*.proto --python_out=.\n",
    "cp object_detection/packages/tf2/setup.py .\n",
    "python -m pip install ."
   ]
  },
  {
   "cell_type": "code",
   "execution_count": null,
   "id": "da81a895",
   "metadata": {},
   "outputs": [],
   "source": []
  }
 ],
 "metadata": {
  "kernelspec": {
   "display_name": "Python 3 (ipykernel)",
   "language": "python",
   "name": "python3"
  },
  "language_info": {
   "codemirror_mode": {
    "name": "ipython",
    "version": 3
   },
   "file_extension": ".py",
   "mimetype": "text/x-python",
   "name": "python",
   "nbconvert_exporter": "python",
   "pygments_lexer": "ipython3",
   "version": "3.11.5"
  }
 },
 "nbformat": 4,
 "nbformat_minor": 5
}
